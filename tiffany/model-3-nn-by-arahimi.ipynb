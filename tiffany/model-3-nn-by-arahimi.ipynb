{
 "cells": [
  {
   "cell_type": "markdown",
   "metadata": {},
   "source": [
    "Recreate NN by https://arxiv.org/pdf/1704.04008.pdf\n",
    "\n",
    "You can download the preprocessed file here: https://www.dropbox.com/sh/vofn0awjcjxhwbc/AABHekl2pmFk2Q3qdVO60JTKa?dl=0\n",
    "\n",
    "Put the na.pkl file in the data directory and run:\n",
    "python geodare.py -dataset na -model mlp -datadir ./data\n",
    "\n",
    "The step to create nearest neighbours:\n",
    "1. train the model python geodare.py -dataset na -model mlp -datadir ./data\n",
    "2. Line 487 X_dare_embs = f_get_embeddings(X_dare), gives you embeddings for all vocabulary, you can save these embeddings, and run your nearest neighbour code to get closest words to each city.\n",
    "\n",
    "Good luck.\n",
    "\n",
    "Afshin"
   ]
  },
  {
   "cell_type": "code",
   "execution_count": null,
   "metadata": {},
   "outputs": [],
   "source": []
  }
 ],
 "metadata": {
  "kernelspec": {
   "display_name": "Python 3",
   "language": "python",
   "name": "python3"
  },
  "language_info": {
   "codemirror_mode": {
    "name": "ipython",
    "version": 3
   },
   "file_extension": ".py",
   "mimetype": "text/x-python",
   "name": "python",
   "nbconvert_exporter": "python",
   "pygments_lexer": "ipython3",
   "version": "3.6.6"
  }
 },
 "nbformat": 4,
 "nbformat_minor": 2
}
