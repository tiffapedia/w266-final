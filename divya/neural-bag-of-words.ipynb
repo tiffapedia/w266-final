{
 "cells": [
  {
   "cell_type": "code",
   "execution_count": 1,
   "metadata": {},
   "outputs": [
    {
     "name": "stderr",
     "output_type": "stream",
     "text": [
      "/Users/divyagorantla/anaconda3/lib/python3.6/importlib/_bootstrap.py:219: RuntimeWarning: compiletime version 3.5 of module 'tensorflow.python.framework.fast_tensor_util' does not match runtime version 3.6\n",
      "  return f(*args, **kwds)\n",
      "/Users/divyagorantla/anaconda3/lib/python3.6/site-packages/h5py/__init__.py:34: FutureWarning: Conversion of the second argument of issubdtype from `float` to `np.floating` is deprecated. In future, it will be treated as `np.float64 == np.dtype(float).type`.\n",
      "  from ._conv import register_converters as _register_converters\n"
     ]
    }
   ],
   "source": [
    "import tweets_processor\n",
    "import importlib\n",
    "import vocabulary\n",
    "import utils\n",
    "import models\n",
    "import tensorflow as tf\n",
    "import numpy as np\n",
    "from sklearn.model_selection import train_test_split\n",
    "import patched_numpy_io\n",
    "from sklearn.preprocessing import LabelEncoder"
   ]
  },
  {
   "cell_type": "code",
   "execution_count": 2,
   "metadata": {
    "collapsed": true
   },
   "outputs": [],
   "source": [
    "importlib.reload(tweets_processor)\n",
    "#tweets_text, tweets_place = tweets_processor.get_tweets_with_location()\n",
    "tweets_text, tweets_place = tweets_processor.get_tweets_from_csv()\n",
    "#print(tweets_text[-1],tweets_place[-1])"
   ]
  },
  {
   "cell_type": "code",
   "execution_count": 3,
   "metadata": {
    "collapsed": true
   },
   "outputs": [],
   "source": [
    "# split the data\n",
    "######TODO: Split into train, dev, test -use kfold cross validation #########\n",
    "train_data, test_data, train_labels, test_labels = train_test_split(tweets_text, tweets_place, test_size=0.33, random_state=0)"
   ]
  },
  {
   "cell_type": "code",
   "execution_count": 4,
   "metadata": {
    "collapsed": true
   },
   "outputs": [],
   "source": [
    "# processing the tweets\n",
    "def get_tokenized_tweets(tweets):\n",
    "    processed_tweets = []\n",
    "    tokenized_tweets = []\n",
    "    tokens = []\n",
    "    for tweet in tweets:\n",
    "        processed_tweet = tweets_processor.preprocessor(tweet)\n",
    "        processed_tweets.append(processed_tweet)\n",
    "        # pass through tokenizer\n",
    "        tokenized_tweet = tweets_processor.tokenizer(processed_tweet)\n",
    "        # for each tweet get the tokens\n",
    "        tokenized_tweets.append(tokenized_tweet)\n",
    "        # create list of all tokens\n",
    "        tokens.extend(tokenized_tweet)\n",
    "    return tokenized_tweets, tokens\n",
    "#print(tokenized_tweets)"
   ]
  },
  {
   "cell_type": "code",
   "execution_count": 5,
   "metadata": {
    "collapsed": true
   },
   "outputs": [],
   "source": [
    "# processing tokens to replace anything not in vocab with <unk>\n",
    "def process_tokens_unk(tokens):\n",
    "    return np.array([utils.canonicalize_word(w, wordset=vocab.wordset) \n",
    "                     for w in tokens], dtype=object)"
   ]
  },
  {
   "cell_type": "code",
   "execution_count": 6,
   "metadata": {
    "collapsed": true
   },
   "outputs": [],
   "source": [
    "# get train tokens and vocabulary tokens from trian data set\n",
    "train_tokenized_tweets, train_tokens = get_tokenized_tweets(train_data)    "
   ]
  },
  {
   "cell_type": "code",
   "execution_count": 7,
   "metadata": {},
   "outputs": [
    {
     "name": "stdout",
     "output_type": "stream",
     "text": [
      "13711\n"
     ]
    }
   ],
   "source": [
    "# create vocabulary\n",
    "vocab = vocabulary.Vocabulary(utils.canonicalize_word(w,digits=False) for w in train_tokens)\n",
    "print(vocab.size)"
   ]
  },
  {
   "cell_type": "code",
   "execution_count": 8,
   "metadata": {
    "collapsed": true
   },
   "outputs": [],
   "source": [
    "# process the train_tokenized_tweets\n",
    "processed_train_tokenized_tweets = []\n",
    "for tokenized_tweet in train_tokenized_tweets:\n",
    "    processed_unk_tweet = process_tokens_unk(tokenized_tweet)\n",
    "    processed_train_tokenized_tweets.append(processed_unk_tweet)\n",
    "    \n",
    "train_tokenized_tweets_ids = []\n",
    "for tokenized_tweet in processed_train_tokenized_tweets:\n",
    "    tokenized_tweet_id = vocab.words_to_ids(tokenized_tweet)\n",
    "    train_tokenized_tweets_ids.append(tokenized_tweet_id)\n",
    "    #print(tokenized_tweet, tokenized_tweet_id)\n",
    "    "
   ]
  },
  {
   "cell_type": "code",
   "execution_count": 9,
   "metadata": {
    "collapsed": true
   },
   "outputs": [],
   "source": [
    "# get test tokens\n",
    "test_tokenized_tweets, test_tokens = get_tokenized_tweets(test_data)\n",
    "# process the test_tokenized_tweets\n",
    "processed_test_tokenized_tweets = []\n",
    "for tokenized_tweet in test_tokenized_tweets:\n",
    "    processed_unk_tweet = process_tokens_unk(tokenized_tweet)\n",
    "    processed_test_tokenized_tweets.append(processed_unk_tweet)\n",
    "    \n",
    "test_tokenized_tweets_ids = []\n",
    "for tokenized_tweet in processed_test_tokenized_tweets:\n",
    "    tokenized_tweet_id = vocab.words_to_ids(tokenized_tweet)\n",
    "    test_tokenized_tweets_ids.append(tokenized_tweet_id)"
   ]
  },
  {
   "cell_type": "code",
   "execution_count": 10,
   "metadata": {},
   "outputs": [
    {
     "name": "stdout",
     "output_type": "stream",
     "text": [
      "[ 4  4 13 ...  6 18 13]\n",
      "['cincinnati' 'cincinnati' 'new york' ... 'houston' 'san francisco'\n",
      " 'new york']\n"
     ]
    },
    {
     "name": "stderr",
     "output_type": "stream",
     "text": [
      "/Users/divyagorantla/anaconda3/lib/python3.6/site-packages/sklearn/preprocessing/label.py:151: DeprecationWarning: The truth value of an empty array is ambiguous. Returning False, but in future this will result in an error. Use `array.size > 0` to check that an array is not empty.\n",
      "  if diff:\n"
     ]
    }
   ],
   "source": [
    "# encode train labels\n",
    "#Converting string to integers\n",
    "\n",
    "le = LabelEncoder()\n",
    "train_encoded_labels = le.fit_transform(train_labels)\n",
    "print(train_encoded_labels)\n",
    "\n",
    "print(le.inverse_transform(train_encoded_labels))"
   ]
  },
  {
   "cell_type": "code",
   "execution_count": 12,
   "metadata": {
    "collapsed": true
   },
   "outputs": [],
   "source": [
    "# padding sequences of smaller\n",
    "train_x, train_ns = utils.pad_np_array(train_tokenized_tweets_ids, max_len=50, pad_id=0)\n",
    "#print(train_x)\n",
    "#print(train_tokenized_tweets_ids)\n"
   ]
  },
  {
   "cell_type": "code",
   "execution_count": 13,
   "metadata": {},
   "outputs": [
    {
     "name": "stdout",
     "output_type": "stream",
     "text": [
      "INFO:tensorflow:Using default config.\n",
      "WARNING:tensorflow:Using temporary folder as model directory: /var/folders/68/1f0ftm9d7_b6h52231rtg7mh0000gn/T/tmpy16h5yus\n",
      "INFO:tensorflow:Using config: {'_model_dir': '/var/folders/68/1f0ftm9d7_b6h52231rtg7mh0000gn/T/tmpy16h5yus', '_tf_random_seed': None, '_save_summary_steps': 100, '_save_checkpoints_steps': None, '_save_checkpoints_secs': 600, '_session_config': None, '_keep_checkpoint_max': 5, '_keep_checkpoint_every_n_hours': 10000, '_log_step_count_steps': 100, '_train_distribute': None, '_device_fn': None, '_service': None, '_cluster_spec': <tensorflow.python.training.server_lib.ClusterSpec object at 0x10f3443c8>, '_task_type': 'worker', '_task_id': 0, '_global_id_in_cluster': 0, '_master': '', '_evaluation_master': '', '_is_chief': True, '_num_ps_replicas': 0, '_num_worker_replicas': 1}\n",
      "INFO:tensorflow:Calling model_fn.\n",
      "INFO:tensorflow:Done calling model_fn.\n",
      "INFO:tensorflow:Create CheckpointSaverHook.\n",
      "INFO:tensorflow:Graph was finalized.\n",
      "INFO:tensorflow:Running local_init_op.\n",
      "INFO:tensorflow:Done running local_init_op.\n",
      "INFO:tensorflow:Saving checkpoints for 0 into /var/folders/68/1f0ftm9d7_b6h52231rtg7mh0000gn/T/tmpy16h5yus/model.ckpt.\n",
      "INFO:tensorflow:loss = 843.5676, step = 1\n",
      "INFO:tensorflow:global_step/sec: 184.874\n",
      "INFO:tensorflow:loss = 463.5381, step = 101 (0.542 sec)\n",
      "INFO:tensorflow:global_step/sec: 230.845\n",
      "INFO:tensorflow:loss = 265.20398, step = 201 (0.434 sec)\n",
      "INFO:tensorflow:global_step/sec: 226.081\n",
      "INFO:tensorflow:loss = 155.89507, step = 301 (0.442 sec)\n",
      "INFO:tensorflow:global_step/sec: 228.9\n",
      "INFO:tensorflow:loss = 93.77735, step = 401 (0.437 sec)\n",
      "INFO:tensorflow:Saving checkpoints for 419 into /var/folders/68/1f0ftm9d7_b6h52231rtg7mh0000gn/T/tmpy16h5yus/model.ckpt.\n",
      "INFO:tensorflow:Loss for final step: 85.67691.\n",
      "INFO:tensorflow:Calling model_fn.\n",
      "INFO:tensorflow:Done calling model_fn.\n",
      "INFO:tensorflow:Create CheckpointSaverHook.\n",
      "INFO:tensorflow:Graph was finalized.\n",
      "INFO:tensorflow:Restoring parameters from /var/folders/68/1f0ftm9d7_b6h52231rtg7mh0000gn/T/tmpy16h5yus/model.ckpt-419\n",
      "INFO:tensorflow:Running local_init_op.\n",
      "INFO:tensorflow:Done running local_init_op.\n",
      "INFO:tensorflow:Saving checkpoints for 419 into /var/folders/68/1f0ftm9d7_b6h52231rtg7mh0000gn/T/tmpy16h5yus/model.ckpt.\n",
      "INFO:tensorflow:loss = 84.98278, step = 420\n",
      "INFO:tensorflow:global_step/sec: 181.118\n",
      "INFO:tensorflow:loss = 52.560455, step = 520 (0.553 sec)\n",
      "INFO:tensorflow:global_step/sec: 200.786\n",
      "INFO:tensorflow:loss = 33.024914, step = 620 (0.498 sec)\n",
      "INFO:tensorflow:global_step/sec: 226.026\n",
      "INFO:tensorflow:loss = 21.23381, step = 720 (0.443 sec)\n",
      "INFO:tensorflow:global_step/sec: 210.316\n",
      "INFO:tensorflow:loss = 14.490756, step = 820 (0.476 sec)\n",
      "INFO:tensorflow:Saving checkpoints for 838 into /var/folders/68/1f0ftm9d7_b6h52231rtg7mh0000gn/T/tmpy16h5yus/model.ckpt.\n",
      "INFO:tensorflow:Loss for final step: 13.513767.\n",
      "INFO:tensorflow:Calling model_fn.\n",
      "INFO:tensorflow:Done calling model_fn.\n",
      "INFO:tensorflow:Create CheckpointSaverHook.\n",
      "INFO:tensorflow:Graph was finalized.\n",
      "INFO:tensorflow:Restoring parameters from /var/folders/68/1f0ftm9d7_b6h52231rtg7mh0000gn/T/tmpy16h5yus/model.ckpt-838\n",
      "INFO:tensorflow:Running local_init_op.\n",
      "INFO:tensorflow:Done running local_init_op.\n",
      "INFO:tensorflow:Saving checkpoints for 838 into /var/folders/68/1f0ftm9d7_b6h52231rtg7mh0000gn/T/tmpy16h5yus/model.ckpt.\n",
      "INFO:tensorflow:loss = 13.305985, step = 839\n",
      "INFO:tensorflow:global_step/sec: 149.563\n",
      "INFO:tensorflow:loss = 9.771366, step = 939 (0.670 sec)\n",
      "INFO:tensorflow:global_step/sec: 155.263\n",
      "INFO:tensorflow:loss = 7.1809993, step = 1039 (0.646 sec)\n",
      "INFO:tensorflow:global_step/sec: 131.426\n",
      "INFO:tensorflow:loss = 5.5072384, step = 1139 (0.760 sec)\n",
      "INFO:tensorflow:global_step/sec: 169.111\n",
      "INFO:tensorflow:loss = 4.7368827, step = 1239 (0.590 sec)\n",
      "INFO:tensorflow:Saving checkpoints for 1257 into /var/folders/68/1f0ftm9d7_b6h52231rtg7mh0000gn/T/tmpy16h5yus/model.ckpt.\n",
      "INFO:tensorflow:Loss for final step: 4.5593767.\n",
      "INFO:tensorflow:Calling model_fn.\n",
      "INFO:tensorflow:Done calling model_fn.\n",
      "INFO:tensorflow:Create CheckpointSaverHook.\n",
      "INFO:tensorflow:Graph was finalized.\n",
      "INFO:tensorflow:Restoring parameters from /var/folders/68/1f0ftm9d7_b6h52231rtg7mh0000gn/T/tmpy16h5yus/model.ckpt-1257\n",
      "INFO:tensorflow:Running local_init_op.\n",
      "INFO:tensorflow:Done running local_init_op.\n",
      "INFO:tensorflow:Saving checkpoints for 1257 into /var/folders/68/1f0ftm9d7_b6h52231rtg7mh0000gn/T/tmpy16h5yus/model.ckpt.\n",
      "INFO:tensorflow:loss = 4.4524975, step = 1258\n",
      "INFO:tensorflow:global_step/sec: 146.396\n",
      "INFO:tensorflow:loss = 4.298603, step = 1358 (0.685 sec)\n",
      "INFO:tensorflow:global_step/sec: 160.344\n",
      "INFO:tensorflow:loss = 3.6545906, step = 1458 (0.623 sec)\n",
      "INFO:tensorflow:global_step/sec: 162.794\n",
      "INFO:tensorflow:loss = 3.239189, step = 1558 (0.614 sec)\n",
      "INFO:tensorflow:global_step/sec: 165.638\n",
      "INFO:tensorflow:loss = 3.185278, step = 1658 (0.606 sec)\n",
      "INFO:tensorflow:Saving checkpoints for 1676 into /var/folders/68/1f0ftm9d7_b6h52231rtg7mh0000gn/T/tmpy16h5yus/model.ckpt.\n",
      "INFO:tensorflow:Loss for final step: 3.1344233.\n",
      "INFO:tensorflow:Calling model_fn.\n",
      "INFO:tensorflow:Done calling model_fn.\n",
      "INFO:tensorflow:Create CheckpointSaverHook.\n",
      "INFO:tensorflow:Graph was finalized.\n",
      "INFO:tensorflow:Restoring parameters from /var/folders/68/1f0ftm9d7_b6h52231rtg7mh0000gn/T/tmpy16h5yus/model.ckpt-1676\n",
      "INFO:tensorflow:Running local_init_op.\n",
      "INFO:tensorflow:Done running local_init_op.\n",
      "INFO:tensorflow:Saving checkpoints for 1676 into /var/folders/68/1f0ftm9d7_b6h52231rtg7mh0000gn/T/tmpy16h5yus/model.ckpt.\n",
      "INFO:tensorflow:loss = 3.061926, step = 1677\n",
      "INFO:tensorflow:global_step/sec: 132.444\n",
      "INFO:tensorflow:loss = 3.3776584, step = 1777 (0.757 sec)\n",
      "INFO:tensorflow:global_step/sec: 162.732\n",
      "INFO:tensorflow:loss = 3.0041175, step = 1877 (0.614 sec)\n",
      "INFO:tensorflow:global_step/sec: 149.934\n",
      "INFO:tensorflow:loss = 2.7860124, step = 1977 (0.667 sec)\n",
      "INFO:tensorflow:global_step/sec: 163.828\n",
      "INFO:tensorflow:loss = 2.7755578, step = 2077 (0.611 sec)\n",
      "INFO:tensorflow:Saving checkpoints for 2095 into /var/folders/68/1f0ftm9d7_b6h52231rtg7mh0000gn/T/tmpy16h5yus/model.ckpt.\n",
      "INFO:tensorflow:Loss for final step: 2.7367635.\n",
      "INFO:tensorflow:Calling model_fn.\n",
      "INFO:tensorflow:Done calling model_fn.\n",
      "INFO:tensorflow:Create CheckpointSaverHook.\n",
      "INFO:tensorflow:Graph was finalized.\n",
      "INFO:tensorflow:Restoring parameters from /var/folders/68/1f0ftm9d7_b6h52231rtg7mh0000gn/T/tmpy16h5yus/model.ckpt-2095\n",
      "INFO:tensorflow:Running local_init_op.\n",
      "INFO:tensorflow:Done running local_init_op.\n",
      "INFO:tensorflow:Saving checkpoints for 2095 into /var/folders/68/1f0ftm9d7_b6h52231rtg7mh0000gn/T/tmpy16h5yus/model.ckpt.\n",
      "INFO:tensorflow:loss = 2.703261, step = 2096\n",
      "INFO:tensorflow:global_step/sec: 166.22\n",
      "INFO:tensorflow:loss = 3.1040626, step = 2196 (0.603 sec)\n",
      "INFO:tensorflow:global_step/sec: 169.957\n",
      "INFO:tensorflow:loss = 2.7841687, step = 2296 (0.589 sec)\n",
      "INFO:tensorflow:global_step/sec: 166.805\n",
      "INFO:tensorflow:loss = 2.6258838, step = 2396 (0.601 sec)\n",
      "INFO:tensorflow:global_step/sec: 165.412\n",
      "INFO:tensorflow:loss = 2.5886393, step = 2496 (0.603 sec)\n",
      "INFO:tensorflow:Saving checkpoints for 2514 into /var/folders/68/1f0ftm9d7_b6h52231rtg7mh0000gn/T/tmpy16h5yus/model.ckpt.\n",
      "INFO:tensorflow:Loss for final step: 2.5301218.\n",
      "INFO:tensorflow:Calling model_fn.\n",
      "INFO:tensorflow:Done calling model_fn.\n",
      "INFO:tensorflow:Create CheckpointSaverHook.\n",
      "INFO:tensorflow:Graph was finalized.\n",
      "INFO:tensorflow:Restoring parameters from /var/folders/68/1f0ftm9d7_b6h52231rtg7mh0000gn/T/tmpy16h5yus/model.ckpt-2514\n",
      "INFO:tensorflow:Running local_init_op.\n",
      "INFO:tensorflow:Done running local_init_op.\n",
      "INFO:tensorflow:Saving checkpoints for 2514 into /var/folders/68/1f0ftm9d7_b6h52231rtg7mh0000gn/T/tmpy16h5yus/model.ckpt.\n",
      "INFO:tensorflow:loss = 2.520361, step = 2515\n",
      "INFO:tensorflow:global_step/sec: 159.619\n",
      "INFO:tensorflow:loss = 2.9610422, step = 2615 (0.628 sec)\n",
      "INFO:tensorflow:global_step/sec: 135.145\n",
      "INFO:tensorflow:loss = 2.6551194, step = 2715 (0.740 sec)\n",
      "INFO:tensorflow:global_step/sec: 135.412\n",
      "INFO:tensorflow:loss = 2.533331, step = 2815 (0.738 sec)\n",
      "INFO:tensorflow:global_step/sec: 145.903\n",
      "INFO:tensorflow:loss = 2.472933, step = 2915 (0.686 sec)\n",
      "INFO:tensorflow:Saving checkpoints for 2933 into /var/folders/68/1f0ftm9d7_b6h52231rtg7mh0000gn/T/tmpy16h5yus/model.ckpt.\n"
     ]
    },
    {
     "name": "stdout",
     "output_type": "stream",
     "text": [
      "INFO:tensorflow:Loss for final step: 2.3906102.\n",
      "INFO:tensorflow:Calling model_fn.\n",
      "INFO:tensorflow:Done calling model_fn.\n",
      "INFO:tensorflow:Create CheckpointSaverHook.\n",
      "INFO:tensorflow:Graph was finalized.\n",
      "INFO:tensorflow:Restoring parameters from /var/folders/68/1f0ftm9d7_b6h52231rtg7mh0000gn/T/tmpy16h5yus/model.ckpt-2933\n",
      "INFO:tensorflow:Running local_init_op.\n",
      "INFO:tensorflow:Done running local_init_op.\n",
      "INFO:tensorflow:Saving checkpoints for 2933 into /var/folders/68/1f0ftm9d7_b6h52231rtg7mh0000gn/T/tmpy16h5yus/model.ckpt.\n",
      "INFO:tensorflow:loss = 2.4190812, step = 2934\n",
      "INFO:tensorflow:global_step/sec: 148.579\n",
      "INFO:tensorflow:loss = 2.858951, step = 3034 (0.675 sec)\n",
      "INFO:tensorflow:global_step/sec: 154.536\n",
      "INFO:tensorflow:loss = 2.5664449, step = 3134 (0.647 sec)\n",
      "INFO:tensorflow:global_step/sec: 164.22\n",
      "INFO:tensorflow:loss = 2.4705966, step = 3234 (0.610 sec)\n",
      "INFO:tensorflow:global_step/sec: 143.558\n",
      "INFO:tensorflow:loss = 2.3927746, step = 3334 (0.695 sec)\n",
      "INFO:tensorflow:Saving checkpoints for 3352 into /var/folders/68/1f0ftm9d7_b6h52231rtg7mh0000gn/T/tmpy16h5yus/model.ckpt.\n",
      "INFO:tensorflow:Loss for final step: 2.2871635.\n",
      "INFO:tensorflow:Calling model_fn.\n",
      "INFO:tensorflow:Done calling model_fn.\n",
      "INFO:tensorflow:Create CheckpointSaverHook.\n",
      "INFO:tensorflow:Graph was finalized.\n",
      "INFO:tensorflow:Restoring parameters from /var/folders/68/1f0ftm9d7_b6h52231rtg7mh0000gn/T/tmpy16h5yus/model.ckpt-3352\n",
      "INFO:tensorflow:Running local_init_op.\n",
      "INFO:tensorflow:Done running local_init_op.\n",
      "INFO:tensorflow:Saving checkpoints for 3352 into /var/folders/68/1f0ftm9d7_b6h52231rtg7mh0000gn/T/tmpy16h5yus/model.ckpt.\n",
      "INFO:tensorflow:loss = 2.3508406, step = 3353\n",
      "INFO:tensorflow:global_step/sec: 143.499\n",
      "INFO:tensorflow:loss = 2.7808857, step = 3453 (0.699 sec)\n",
      "INFO:tensorflow:global_step/sec: 121.661\n",
      "INFO:tensorflow:loss = 2.501106, step = 3553 (0.822 sec)\n",
      "INFO:tensorflow:global_step/sec: 138.249\n",
      "INFO:tensorflow:loss = 2.4247139, step = 3653 (0.723 sec)\n",
      "INFO:tensorflow:global_step/sec: 147.098\n",
      "INFO:tensorflow:loss = 2.3336034, step = 3753 (0.680 sec)\n",
      "INFO:tensorflow:Saving checkpoints for 3771 into /var/folders/68/1f0ftm9d7_b6h52231rtg7mh0000gn/T/tmpy16h5yus/model.ckpt.\n",
      "INFO:tensorflow:Loss for final step: 2.2059968.\n",
      "INFO:tensorflow:Calling model_fn.\n",
      "INFO:tensorflow:Done calling model_fn.\n",
      "INFO:tensorflow:Create CheckpointSaverHook.\n",
      "INFO:tensorflow:Graph was finalized.\n",
      "INFO:tensorflow:Restoring parameters from /var/folders/68/1f0ftm9d7_b6h52231rtg7mh0000gn/T/tmpy16h5yus/model.ckpt-3771\n",
      "INFO:tensorflow:Running local_init_op.\n",
      "INFO:tensorflow:Done running local_init_op.\n",
      "INFO:tensorflow:Saving checkpoints for 3771 into /var/folders/68/1f0ftm9d7_b6h52231rtg7mh0000gn/T/tmpy16h5yus/model.ckpt.\n",
      "INFO:tensorflow:loss = 2.300723, step = 3772\n",
      "INFO:tensorflow:global_step/sec: 149.814\n",
      "INFO:tensorflow:loss = 2.719643, step = 3872 (0.669 sec)\n",
      "INFO:tensorflow:global_step/sec: 169.214\n",
      "INFO:tensorflow:loss = 2.4502995, step = 3972 (0.594 sec)\n",
      "INFO:tensorflow:global_step/sec: 175.991\n",
      "INFO:tensorflow:loss = 2.3894658, step = 4072 (0.565 sec)\n",
      "INFO:tensorflow:global_step/sec: 154.979\n",
      "INFO:tensorflow:loss = 2.287486, step = 4172 (0.647 sec)\n",
      "INFO:tensorflow:Saving checkpoints for 4190 into /var/folders/68/1f0ftm9d7_b6h52231rtg7mh0000gn/T/tmpy16h5yus/model.ckpt.\n",
      "INFO:tensorflow:Loss for final step: 2.1415973.\n"
     ]
    }
   ],
   "source": [
    "# passing through NBOW model\n",
    "# training\n",
    "################### TODO: graph using tensorborad ################\n",
    "train_labels_array = np.array(train_encoded_labels, dtype=np.int32)\n",
    "model_params = dict(V=vocab.size, embed_dim=50, hidden_dims=[25], num_classes=len(train_labels_array),\n",
    "                    encoder_type='bow',\n",
    "                    lr=0.1, optimizer='adagrad', beta=0.01)\n",
    "\n",
    "model = tf.estimator.Estimator(model_fn=models.classifier_model_fn, \n",
    "                               params=model_params)\n",
    "\n",
    "train_params = dict(batch_size=32, total_epochs=20, eval_every=2)\n",
    "\n",
    "train_input_fn = patched_numpy_io.numpy_input_fn(\n",
    "                    x={\"ids\": train_x, \"ns\": train_ns}, y=train_labels_array,\n",
    "                    batch_size=train_params['batch_size'], \n",
    "                    num_epochs=train_params['eval_every'], shuffle=True, seed=42\n",
    "                 )\n",
    "\n",
    "for _ in range(train_params['total_epochs'] // train_params['eval_every']):\n",
    "    # Train for a few epochs, then evaluate on dev\n",
    "    model.train(input_fn=train_input_fn)\n",
    "    #### TODO: do the evaluation on dev ###\n"
   ]
  },
  {
   "cell_type": "code",
   "execution_count": 14,
   "metadata": {
    "collapsed": true
   },
   "outputs": [],
   "source": [
    "# get test inputs\n",
    "test_x, test_ns = utils.pad_np_array(test_tokenized_tweets_ids, max_len=140, pad_id=0)\n",
    "\n",
    "# encode test labels\n",
    "le = LabelEncoder()\n",
    "test_encoded_labels = le.fit_transform(test_labels)\n"
   ]
  },
  {
   "cell_type": "code",
   "execution_count": 15,
   "metadata": {},
   "outputs": [
    {
     "name": "stdout",
     "output_type": "stream",
     "text": [
      "INFO:tensorflow:Calling model_fn.\n",
      "INFO:tensorflow:Done calling model_fn.\n",
      "INFO:tensorflow:Starting evaluation at 2018-11-13-02:11:59\n",
      "INFO:tensorflow:Graph was finalized.\n",
      "INFO:tensorflow:Restoring parameters from /var/folders/68/1f0ftm9d7_b6h52231rtg7mh0000gn/T/tmpy16h5yus/model.ckpt-4190\n",
      "INFO:tensorflow:Running local_init_op.\n",
      "INFO:tensorflow:Done running local_init_op.\n",
      "INFO:tensorflow:Finished evaluation at 2018-11-13-02:11:59\n",
      "INFO:tensorflow:Saving dict for global step 4190: accuracy = 0.122387156, cross_entropy_loss = 4.0735126, global_step = 4190, loss = 5.7586746\n",
      "INFO:tensorflow:Saving 'checkpoint_path' summary for global step 4190: /var/folders/68/1f0ftm9d7_b6h52231rtg7mh0000gn/T/tmpy16h5yus/model.ckpt-4190\n"
     ]
    }
   ],
   "source": [
    "# evaluate model\n",
    "test_labels_array = np.array(test_encoded_labels, dtype=np.int32)\n",
    "test_input_fn = tf.estimator.inputs.numpy_input_fn(\n",
    "                    x={\"ids\": test_x, \"ns\": test_ns}, y=test_labels_array,\n",
    "                    batch_size=128, num_epochs=1, shuffle=False\n",
    "                )\n",
    "\n",
    "eval_metrics = model.evaluate(input_fn=test_input_fn, name=\"test\")"
   ]
  },
  {
   "cell_type": "code",
   "execution_count": 143,
   "metadata": {},
   "outputs": [
    {
     "name": "stdout",
     "output_type": "stream",
     "text": [
      "{'accuracy': 0.122387156, 'cross_entropy_loss': 4.0735126, 'loss': 5.7586746, 'global_step': 4190}\n"
     ]
    }
   ],
   "source": [
    "print(eval_metrics)"
   ]
  },
  {
   "cell_type": "code",
   "execution_count": null,
   "metadata": {
    "collapsed": true
   },
   "outputs": [],
   "source": []
  }
 ],
 "metadata": {
  "kernelspec": {
   "display_name": "Python 3",
   "language": "python",
   "name": "python3"
  },
  "language_info": {
   "codemirror_mode": {
    "name": "ipython",
    "version": 3
   },
   "file_extension": ".py",
   "mimetype": "text/x-python",
   "name": "python",
   "nbconvert_exporter": "python",
   "pygments_lexer": "ipython3",
   "version": "3.6.3"
  }
 },
 "nbformat": 4,
 "nbformat_minor": 2
}
