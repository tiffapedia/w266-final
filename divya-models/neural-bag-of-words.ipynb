{
 "cells": [
  {
   "cell_type": "code",
   "execution_count": 2,
   "metadata": {},
   "outputs": [
    {
     "name": "stderr",
     "output_type": "stream",
     "text": [
      "/Users/divyagorantla/anaconda3/lib/python3.6/importlib/_bootstrap.py:219: RuntimeWarning: compiletime version 3.5 of module 'tensorflow.python.framework.fast_tensor_util' does not match runtime version 3.6\n",
      "  return f(*args, **kwds)\n",
      "/Users/divyagorantla/anaconda3/lib/python3.6/site-packages/h5py/__init__.py:34: FutureWarning: Conversion of the second argument of issubdtype from `float` to `np.floating` is deprecated. In future, it will be treated as `np.float64 == np.dtype(float).type`.\n",
      "  from ._conv import register_converters as _register_converters\n"
     ]
    }
   ],
   "source": [
    "import tweets_processor\n",
    "import importlib\n",
    "import vocabulary\n",
    "import utils\n",
    "import models\n",
    "import tensorflow as tf\n",
    "import numpy as np\n",
    "from sklearn.model_selection import train_test_split\n",
    "import patched_numpy_io\n",
    "from sklearn.preprocessing import LabelEncoder"
   ]
  },
  {
   "cell_type": "code",
   "execution_count": 19,
   "metadata": {
    "collapsed": true
   },
   "outputs": [],
   "source": [
    "importlib.reload(tweets_processor)\n",
    "#tweets_text, tweets_place = tweets_processor.get_tweets_with_location()\n",
    "tweets_text, tweets_place = tweets_processor.get_tweets_from_csv()\n",
    "#print(tweets_text[-1],tweets_place[-1])"
   ]
  },
  {
   "cell_type": "code",
   "execution_count": 5,
   "metadata": {
    "collapsed": true
   },
   "outputs": [],
   "source": [
    "# split the data\n",
    "######TODO: Split into train, dev, test -use kfold cross validation #########\n",
    "train_data, test_data, train_labels, test_labels = train_test_split(tweets_text, tweets_place, test_size=0.33, random_state=0)"
   ]
  },
  {
   "cell_type": "code",
   "execution_count": 7,
   "metadata": {
    "collapsed": true
   },
   "outputs": [],
   "source": [
    "# processing the tweets\n",
    "def get_tokenized_tweets(tweets):\n",
    "    processed_tweets = []\n",
    "    tokenized_tweets = []\n",
    "    tokens = []\n",
    "    for tweet in tweets:\n",
    "        processed_tweet = tweets_processor.preprocessor(tweet)\n",
    "        processed_tweets.append(processed_tweet)\n",
    "        # pass through tokenizer\n",
    "        tokenized_tweet = tweets_processor.tokenizer(processed_tweet)\n",
    "        # for each tweet get the tokens\n",
    "        tokenized_tweets.append(tokenized_tweet)\n",
    "        # create list of all tokens\n",
    "        tokens.extend(tokenized_tweet)\n",
    "    return tokenized_tweets, tokens\n",
    "#print(tokenized_tweets)"
   ]
  },
  {
   "cell_type": "code",
   "execution_count": 8,
   "metadata": {
    "collapsed": true
   },
   "outputs": [],
   "source": [
    "# processing tokens to replace anything not in vocab with <unk>\n",
    "def process_tokens_unk(tokens):\n",
    "    return np.array([utils.canonicalize_word(w, wordset=vocab.wordset) \n",
    "                     for w in tokens], dtype=object)"
   ]
  },
  {
   "cell_type": "code",
   "execution_count": 9,
   "metadata": {
    "collapsed": true
   },
   "outputs": [],
   "source": [
    "# get train tokens and vocabulary tokens from trian data set\n",
    "train_tokenized_tweets, train_tokens = get_tokenized_tweets(train_data)    "
   ]
  },
  {
   "cell_type": "code",
   "execution_count": 10,
   "metadata": {},
   "outputs": [
    {
     "name": "stdout",
     "output_type": "stream",
     "text": [
      "13746\n"
     ]
    }
   ],
   "source": [
    "# create vocabulary\n",
    "vocab = vocabulary.Vocabulary(utils.canonicalize_word(w,digits=False) for w in train_tokens)\n",
    "print(vocab.size)"
   ]
  },
  {
   "cell_type": "code",
   "execution_count": 11,
   "metadata": {
    "collapsed": true
   },
   "outputs": [],
   "source": [
    "# process the train_tokenized_tweets\n",
    "processed_train_tokenized_tweets = []\n",
    "for tokenized_tweet in train_tokenized_tweets:\n",
    "    processed_unk_tweet = process_tokens_unk(tokenized_tweet)\n",
    "    processed_train_tokenized_tweets.append(processed_unk_tweet)\n",
    "    \n",
    "train_tokenized_tweets_ids = []\n",
    "for tokenized_tweet in processed_train_tokenized_tweets:\n",
    "    tokenized_tweet_id = vocab.words_to_ids(tokenized_tweet)\n",
    "    train_tokenized_tweets_ids.append(tokenized_tweet_id)\n",
    "    #print(tokenized_tweet, tokenized_tweet_id)\n",
    "    "
   ]
  },
  {
   "cell_type": "code",
   "execution_count": 12,
   "metadata": {
    "collapsed": true
   },
   "outputs": [],
   "source": [
    "# get test tokens\n",
    "test_tokenized_tweets, test_tokens = get_tokenized_tweets(test_data)\n",
    "# process the test_tokenized_tweets\n",
    "processed_test_tokenized_tweets = []\n",
    "for tokenized_tweet in test_tokenized_tweets:\n",
    "    processed_unk_tweet = process_tokens_unk(tokenized_tweet)\n",
    "    processed_test_tokenized_tweets.append(processed_unk_tweet)\n",
    "    \n",
    "test_tokenized_tweets_ids = []\n",
    "for tokenized_tweet in processed_test_tokenized_tweets:\n",
    "    tokenized_tweet_id = vocab.words_to_ids(tokenized_tweet)\n",
    "    test_tokenized_tweets_ids.append(tokenized_tweet_id)"
   ]
  },
  {
   "cell_type": "code",
   "execution_count": null,
   "metadata": {},
   "outputs": [],
   "source": [
    "# encode train labels\n",
    "# convert label regions to integers\n",
    "train_encoded_labels = tweets_processor.encode_labels(train_labels)\n",
    "print (train_encoded_labels)"
   ]
  },
  {
   "cell_type": "code",
   "execution_count": 15,
   "metadata": {
    "collapsed": true
   },
   "outputs": [],
   "source": [
    "# padding sequences of smaller\n",
    "train_x, train_ns = utils.pad_np_array(train_tokenized_tweets_ids, max_len=50, pad_id=0)\n",
    "#print(train_x)\n",
    "#print(train_tokenized_tweets_ids)\n"
   ]
  },
  {
   "cell_type": "code",
   "execution_count": 16,
   "metadata": {},
   "outputs": [
    {
     "name": "stdout",
     "output_type": "stream",
     "text": [
      "INFO:tensorflow:Using default config.\n",
      "WARNING:tensorflow:Using temporary folder as model directory: /var/folders/68/1f0ftm9d7_b6h52231rtg7mh0000gn/T/tmpk4pk0svn\n",
      "INFO:tensorflow:Using config: {'_model_dir': '/var/folders/68/1f0ftm9d7_b6h52231rtg7mh0000gn/T/tmpk4pk0svn', '_tf_random_seed': None, '_save_summary_steps': 100, '_save_checkpoints_steps': None, '_save_checkpoints_secs': 600, '_session_config': None, '_keep_checkpoint_max': 5, '_keep_checkpoint_every_n_hours': 10000, '_log_step_count_steps': 100, '_train_distribute': None, '_device_fn': None, '_service': None, '_cluster_spec': <tensorflow.python.training.server_lib.ClusterSpec object at 0x10faa59e8>, '_task_type': 'worker', '_task_id': 0, '_global_id_in_cluster': 0, '_master': '', '_evaluation_master': '', '_is_chief': True, '_num_ps_replicas': 0, '_num_worker_replicas': 1}\n",
      "INFO:tensorflow:Calling model_fn.\n",
      "INFO:tensorflow:Done calling model_fn.\n",
      "INFO:tensorflow:Create CheckpointSaverHook.\n",
      "INFO:tensorflow:Graph was finalized.\n",
      "INFO:tensorflow:Running local_init_op.\n",
      "INFO:tensorflow:Done running local_init_op.\n",
      "INFO:tensorflow:Saving checkpoints for 0 into /var/folders/68/1f0ftm9d7_b6h52231rtg7mh0000gn/T/tmpk4pk0svn/model.ckpt.\n",
      "INFO:tensorflow:loss = 6.2316294, step = 1\n",
      "INFO:tensorflow:global_step/sec: 469.942\n",
      "INFO:tensorflow:loss = 4.664033, step = 101 (0.213 sec)\n",
      "INFO:tensorflow:global_step/sec: 529.97\n",
      "INFO:tensorflow:loss = 3.7851868, step = 201 (0.189 sec)\n",
      "INFO:tensorflow:global_step/sec: 591.838\n",
      "INFO:tensorflow:loss = 3.0094962, step = 301 (0.169 sec)\n",
      "INFO:tensorflow:global_step/sec: 567.828\n",
      "INFO:tensorflow:loss = 3.1695695, step = 401 (0.176 sec)\n",
      "INFO:tensorflow:Saving checkpoints for 419 into /var/folders/68/1f0ftm9d7_b6h52231rtg7mh0000gn/T/tmpk4pk0svn/model.ckpt.\n",
      "INFO:tensorflow:Loss for final step: 3.2340798.\n",
      "INFO:tensorflow:Calling model_fn.\n",
      "INFO:tensorflow:Done calling model_fn.\n",
      "INFO:tensorflow:Create CheckpointSaverHook.\n",
      "INFO:tensorflow:Graph was finalized.\n",
      "INFO:tensorflow:Restoring parameters from /var/folders/68/1f0ftm9d7_b6h52231rtg7mh0000gn/T/tmpk4pk0svn/model.ckpt-419\n",
      "INFO:tensorflow:Running local_init_op.\n",
      "INFO:tensorflow:Done running local_init_op.\n",
      "INFO:tensorflow:Saving checkpoints for 419 into /var/folders/68/1f0ftm9d7_b6h52231rtg7mh0000gn/T/tmpk4pk0svn/model.ckpt.\n",
      "INFO:tensorflow:loss = 2.3599203, step = 420\n",
      "INFO:tensorflow:global_step/sec: 396.687\n",
      "INFO:tensorflow:loss = 2.8385377, step = 520 (0.253 sec)\n",
      "INFO:tensorflow:global_step/sec: 568.56\n",
      "INFO:tensorflow:loss = 2.8257976, step = 620 (0.176 sec)\n",
      "INFO:tensorflow:global_step/sec: 577.128\n",
      "INFO:tensorflow:loss = 2.1504648, step = 720 (0.173 sec)\n",
      "INFO:tensorflow:global_step/sec: 501.746\n",
      "INFO:tensorflow:loss = 2.736863, step = 820 (0.199 sec)\n",
      "INFO:tensorflow:Saving checkpoints for 838 into /var/folders/68/1f0ftm9d7_b6h52231rtg7mh0000gn/T/tmpk4pk0svn/model.ckpt.\n",
      "INFO:tensorflow:Loss for final step: 2.591531.\n",
      "INFO:tensorflow:Calling model_fn.\n",
      "INFO:tensorflow:Done calling model_fn.\n",
      "INFO:tensorflow:Create CheckpointSaverHook.\n",
      "INFO:tensorflow:Graph was finalized.\n",
      "INFO:tensorflow:Restoring parameters from /var/folders/68/1f0ftm9d7_b6h52231rtg7mh0000gn/T/tmpk4pk0svn/model.ckpt-838\n",
      "INFO:tensorflow:Running local_init_op.\n",
      "INFO:tensorflow:Done running local_init_op.\n",
      "INFO:tensorflow:Saving checkpoints for 838 into /var/folders/68/1f0ftm9d7_b6h52231rtg7mh0000gn/T/tmpk4pk0svn/model.ckpt.\n",
      "INFO:tensorflow:loss = 1.8660767, step = 839\n",
      "INFO:tensorflow:global_step/sec: 495.3\n",
      "INFO:tensorflow:loss = 2.4459186, step = 939 (0.203 sec)\n",
      "INFO:tensorflow:global_step/sec: 580.249\n",
      "INFO:tensorflow:loss = 2.4111915, step = 1039 (0.172 sec)\n",
      "INFO:tensorflow:global_step/sec: 568.547\n",
      "INFO:tensorflow:loss = 1.7428411, step = 1139 (0.176 sec)\n",
      "INFO:tensorflow:global_step/sec: 528.346\n",
      "INFO:tensorflow:loss = 2.4042854, step = 1239 (0.189 sec)\n",
      "INFO:tensorflow:Saving checkpoints for 1257 into /var/folders/68/1f0ftm9d7_b6h52231rtg7mh0000gn/T/tmpk4pk0svn/model.ckpt.\n",
      "INFO:tensorflow:Loss for final step: 2.1426325.\n",
      "INFO:tensorflow:Calling model_fn.\n",
      "INFO:tensorflow:Done calling model_fn.\n",
      "INFO:tensorflow:Create CheckpointSaverHook.\n",
      "INFO:tensorflow:Graph was finalized.\n",
      "INFO:tensorflow:Restoring parameters from /var/folders/68/1f0ftm9d7_b6h52231rtg7mh0000gn/T/tmpk4pk0svn/model.ckpt-1257\n",
      "INFO:tensorflow:Running local_init_op.\n",
      "INFO:tensorflow:Done running local_init_op.\n",
      "INFO:tensorflow:Saving checkpoints for 1257 into /var/folders/68/1f0ftm9d7_b6h52231rtg7mh0000gn/T/tmpk4pk0svn/model.ckpt.\n",
      "INFO:tensorflow:loss = 1.7151335, step = 1258\n",
      "INFO:tensorflow:global_step/sec: 386.698\n",
      "INFO:tensorflow:loss = 2.1929436, step = 1358 (0.260 sec)\n",
      "INFO:tensorflow:global_step/sec: 450.13\n",
      "INFO:tensorflow:loss = 2.1174998, step = 1458 (0.222 sec)\n",
      "INFO:tensorflow:global_step/sec: 501.349\n",
      "INFO:tensorflow:loss = 1.523761, step = 1558 (0.200 sec)\n",
      "INFO:tensorflow:global_step/sec: 611.857\n",
      "INFO:tensorflow:loss = 2.1462998, step = 1658 (0.162 sec)\n",
      "INFO:tensorflow:Saving checkpoints for 1676 into /var/folders/68/1f0ftm9d7_b6h52231rtg7mh0000gn/T/tmpk4pk0svn/model.ckpt.\n",
      "INFO:tensorflow:Loss for final step: 1.8314513.\n",
      "INFO:tensorflow:Calling model_fn.\n",
      "INFO:tensorflow:Done calling model_fn.\n",
      "INFO:tensorflow:Create CheckpointSaverHook.\n",
      "INFO:tensorflow:Graph was finalized.\n",
      "INFO:tensorflow:Restoring parameters from /var/folders/68/1f0ftm9d7_b6h52231rtg7mh0000gn/T/tmpk4pk0svn/model.ckpt-1676\n",
      "INFO:tensorflow:Running local_init_op.\n",
      "INFO:tensorflow:Done running local_init_op.\n",
      "INFO:tensorflow:Saving checkpoints for 1676 into /var/folders/68/1f0ftm9d7_b6h52231rtg7mh0000gn/T/tmpk4pk0svn/model.ckpt.\n",
      "INFO:tensorflow:loss = 1.6133332, step = 1677\n",
      "INFO:tensorflow:global_step/sec: 463.844\n",
      "INFO:tensorflow:loss = 1.9870696, step = 1777 (0.217 sec)\n",
      "INFO:tensorflow:global_step/sec: 507.078\n",
      "INFO:tensorflow:loss = 1.9100132, step = 1877 (0.197 sec)\n",
      "INFO:tensorflow:global_step/sec: 543.467\n",
      "INFO:tensorflow:loss = 1.3973112, step = 1977 (0.184 sec)\n",
      "INFO:tensorflow:global_step/sec: 520.692\n",
      "INFO:tensorflow:loss = 1.9798299, step = 2077 (0.192 sec)\n",
      "INFO:tensorflow:Saving checkpoints for 2095 into /var/folders/68/1f0ftm9d7_b6h52231rtg7mh0000gn/T/tmpk4pk0svn/model.ckpt.\n",
      "INFO:tensorflow:Loss for final step: 1.6570011.\n",
      "INFO:tensorflow:Calling model_fn.\n",
      "INFO:tensorflow:Done calling model_fn.\n",
      "INFO:tensorflow:Create CheckpointSaverHook.\n",
      "INFO:tensorflow:Graph was finalized.\n",
      "INFO:tensorflow:Restoring parameters from /var/folders/68/1f0ftm9d7_b6h52231rtg7mh0000gn/T/tmpk4pk0svn/model.ckpt-2095\n",
      "INFO:tensorflow:Running local_init_op.\n",
      "INFO:tensorflow:Done running local_init_op.\n",
      "INFO:tensorflow:Saving checkpoints for 2095 into /var/folders/68/1f0ftm9d7_b6h52231rtg7mh0000gn/T/tmpk4pk0svn/model.ckpt.\n",
      "INFO:tensorflow:loss = 1.5284514, step = 2096\n",
      "INFO:tensorflow:global_step/sec: 422.856\n",
      "INFO:tensorflow:loss = 1.8461442, step = 2196 (0.238 sec)\n",
      "INFO:tensorflow:global_step/sec: 410.624\n",
      "INFO:tensorflow:loss = 1.7707005, step = 2296 (0.244 sec)\n",
      "INFO:tensorflow:global_step/sec: 502.842\n",
      "INFO:tensorflow:loss = 1.3186724, step = 2396 (0.198 sec)\n",
      "INFO:tensorflow:global_step/sec: 554.966\n",
      "INFO:tensorflow:loss = 1.8731807, step = 2496 (0.180 sec)\n",
      "INFO:tensorflow:Saving checkpoints for 2514 into /var/folders/68/1f0ftm9d7_b6h52231rtg7mh0000gn/T/tmpk4pk0svn/model.ckpt.\n",
      "INFO:tensorflow:Loss for final step: 1.5547669.\n",
      "INFO:tensorflow:Calling model_fn.\n",
      "INFO:tensorflow:Done calling model_fn.\n",
      "INFO:tensorflow:Create CheckpointSaverHook.\n",
      "INFO:tensorflow:Graph was finalized.\n",
      "INFO:tensorflow:Restoring parameters from /var/folders/68/1f0ftm9d7_b6h52231rtg7mh0000gn/T/tmpk4pk0svn/model.ckpt-2514\n",
      "INFO:tensorflow:Running local_init_op.\n",
      "INFO:tensorflow:Done running local_init_op.\n",
      "INFO:tensorflow:Saving checkpoints for 2514 into /var/folders/68/1f0ftm9d7_b6h52231rtg7mh0000gn/T/tmpk4pk0svn/model.ckpt.\n",
      "INFO:tensorflow:loss = 1.4649451, step = 2515\n",
      "INFO:tensorflow:global_step/sec: 386.23\n",
      "INFO:tensorflow:loss = 1.7496452, step = 2615 (0.260 sec)\n",
      "INFO:tensorflow:global_step/sec: 466.79\n",
      "INFO:tensorflow:loss = 1.6778038, step = 2715 (0.214 sec)\n",
      "INFO:tensorflow:global_step/sec: 526.682\n",
      "INFO:tensorflow:loss = 1.2643762, step = 2815 (0.190 sec)\n",
      "INFO:tensorflow:global_step/sec: 571.164\n",
      "INFO:tensorflow:loss = 1.8023081, step = 2915 (0.175 sec)\n",
      "INFO:tensorflow:Saving checkpoints for 2933 into /var/folders/68/1f0ftm9d7_b6h52231rtg7mh0000gn/T/tmpk4pk0svn/model.ckpt.\n"
     ]
    },
    {
     "name": "stdout",
     "output_type": "stream",
     "text": [
      "INFO:tensorflow:Loss for final step: 1.4859649.\n",
      "INFO:tensorflow:Calling model_fn.\n",
      "INFO:tensorflow:Done calling model_fn.\n",
      "INFO:tensorflow:Create CheckpointSaverHook.\n",
      "INFO:tensorflow:Graph was finalized.\n",
      "INFO:tensorflow:Restoring parameters from /var/folders/68/1f0ftm9d7_b6h52231rtg7mh0000gn/T/tmpk4pk0svn/model.ckpt-2933\n",
      "INFO:tensorflow:Running local_init_op.\n",
      "INFO:tensorflow:Done running local_init_op.\n",
      "INFO:tensorflow:Saving checkpoints for 2933 into /var/folders/68/1f0ftm9d7_b6h52231rtg7mh0000gn/T/tmpk4pk0svn/model.ckpt.\n",
      "INFO:tensorflow:loss = 1.4161236, step = 2934\n",
      "INFO:tensorflow:global_step/sec: 490.402\n",
      "INFO:tensorflow:loss = 1.6810791, step = 3034 (0.205 sec)\n",
      "INFO:tensorflow:global_step/sec: 625.544\n",
      "INFO:tensorflow:loss = 1.6146451, step = 3134 (0.160 sec)\n",
      "INFO:tensorflow:global_step/sec: 547.861\n",
      "INFO:tensorflow:loss = 1.2249157, step = 3234 (0.183 sec)\n",
      "INFO:tensorflow:global_step/sec: 483.795\n",
      "INFO:tensorflow:loss = 1.7523445, step = 3334 (0.207 sec)\n",
      "INFO:tensorflow:Saving checkpoints for 3352 into /var/folders/68/1f0ftm9d7_b6h52231rtg7mh0000gn/T/tmpk4pk0svn/model.ckpt.\n",
      "INFO:tensorflow:Loss for final step: 1.4350919.\n",
      "INFO:tensorflow:Calling model_fn.\n",
      "INFO:tensorflow:Done calling model_fn.\n",
      "INFO:tensorflow:Create CheckpointSaverHook.\n",
      "INFO:tensorflow:Graph was finalized.\n",
      "INFO:tensorflow:Restoring parameters from /var/folders/68/1f0ftm9d7_b6h52231rtg7mh0000gn/T/tmpk4pk0svn/model.ckpt-3352\n",
      "INFO:tensorflow:Running local_init_op.\n",
      "INFO:tensorflow:Done running local_init_op.\n",
      "INFO:tensorflow:Saving checkpoints for 3352 into /var/folders/68/1f0ftm9d7_b6h52231rtg7mh0000gn/T/tmpk4pk0svn/model.ckpt.\n",
      "INFO:tensorflow:loss = 1.3781983, step = 3353\n",
      "INFO:tensorflow:global_step/sec: 461.713\n",
      "INFO:tensorflow:loss = 1.630398, step = 3453 (0.218 sec)\n",
      "INFO:tensorflow:global_step/sec: 536.636\n",
      "INFO:tensorflow:loss = 1.5701941, step = 3553 (0.186 sec)\n",
      "INFO:tensorflow:global_step/sec: 520.535\n",
      "INFO:tensorflow:loss = 1.195367, step = 3653 (0.193 sec)\n",
      "INFO:tensorflow:global_step/sec: 518.298\n",
      "INFO:tensorflow:loss = 1.715151, step = 3753 (0.193 sec)\n",
      "INFO:tensorflow:Saving checkpoints for 3771 into /var/folders/68/1f0ftm9d7_b6h52231rtg7mh0000gn/T/tmpk4pk0svn/model.ckpt.\n",
      "INFO:tensorflow:Loss for final step: 1.3955233.\n",
      "INFO:tensorflow:Calling model_fn.\n",
      "INFO:tensorflow:Done calling model_fn.\n",
      "INFO:tensorflow:Create CheckpointSaverHook.\n",
      "INFO:tensorflow:Graph was finalized.\n",
      "INFO:tensorflow:Restoring parameters from /var/folders/68/1f0ftm9d7_b6h52231rtg7mh0000gn/T/tmpk4pk0svn/model.ckpt-3771\n",
      "INFO:tensorflow:Running local_init_op.\n",
      "INFO:tensorflow:Done running local_init_op.\n",
      "INFO:tensorflow:Saving checkpoints for 3771 into /var/folders/68/1f0ftm9d7_b6h52231rtg7mh0000gn/T/tmpk4pk0svn/model.ckpt.\n",
      "INFO:tensorflow:loss = 1.3481091, step = 3772\n",
      "INFO:tensorflow:global_step/sec: 446.305\n",
      "INFO:tensorflow:loss = 1.5918022, step = 3872 (0.227 sec)\n",
      "INFO:tensorflow:global_step/sec: 461.193\n",
      "INFO:tensorflow:loss = 1.5375367, step = 3972 (0.216 sec)\n",
      "INFO:tensorflow:global_step/sec: 544.981\n",
      "INFO:tensorflow:loss = 1.1725304, step = 4072 (0.185 sec)\n",
      "INFO:tensorflow:global_step/sec: 480.104\n",
      "INFO:tensorflow:loss = 1.6862193, step = 4172 (0.207 sec)\n",
      "INFO:tensorflow:Saving checkpoints for 4190 into /var/folders/68/1f0ftm9d7_b6h52231rtg7mh0000gn/T/tmpk4pk0svn/model.ckpt.\n",
      "INFO:tensorflow:Loss for final step: 1.3637818.\n"
     ]
    }
   ],
   "source": [
    "# passing through NBOW model\n",
    "# training\n",
    "################### TODO: graph using tensorborad ################\n",
    "train_labels_array = np.array(train_encoded_labels, dtype=np.int32)\n",
    "model_params = dict(V=vocab.size, embed_dim=50, hidden_dims=[25], num_classes=23,\n",
    "                    encoder_type='bow',\n",
    "                    lr=0.1, optimizer='adagrad', beta=0.01)\n",
    "\n",
    "model = tf.estimator.Estimator(model_fn=models.classifier_model_fn, \n",
    "                               params=model_params)\n",
    "\n",
    "train_params = dict(batch_size=32, total_epochs=20, eval_every=2)\n",
    "\n",
    "train_input_fn = patched_numpy_io.numpy_input_fn(\n",
    "                    x={\"ids\": train_x, \"ns\": train_ns}, y=train_labels_array,\n",
    "                    batch_size=train_params['batch_size'], \n",
    "                    num_epochs=train_params['eval_every'], shuffle=True, seed=42\n",
    "                 )\n",
    "\n",
    "for _ in range(train_params['total_epochs'] // train_params['eval_every']):\n",
    "    # Train for a few epochs, then evaluate on dev\n",
    "    model.train(input_fn=train_input_fn)\n",
    "    #### TODO: do the evaluation on dev ###\n"
   ]
  },
  {
   "cell_type": "code",
   "execution_count": 17,
   "metadata": {
    "collapsed": true
   },
   "outputs": [],
   "source": [
    "# get test inputs\n",
    "test_x, test_ns = utils.pad_np_array(test_tokenized_tweets_ids, max_len=140, pad_id=0)\n",
    "\n",
    "# encode test labels\n",
    "test_encoded_labels = tweets_processor.encode_labels(test_labels)"
   ]
  },
  {
   "cell_type": "code",
   "execution_count": 18,
   "metadata": {},
   "outputs": [
    {
     "name": "stdout",
     "output_type": "stream",
     "text": [
      "INFO:tensorflow:Calling model_fn.\n",
      "INFO:tensorflow:Done calling model_fn.\n",
      "INFO:tensorflow:Starting evaluation at 2018-11-14-05:31:55\n",
      "INFO:tensorflow:Graph was finalized.\n",
      "INFO:tensorflow:Restoring parameters from /var/folders/68/1f0ftm9d7_b6h52231rtg7mh0000gn/T/tmpk4pk0svn/model.ckpt-4190\n",
      "INFO:tensorflow:Running local_init_op.\n",
      "INFO:tensorflow:Done running local_init_op.\n",
      "INFO:tensorflow:Finished evaluation at 2018-11-14-05:31:55\n",
      "INFO:tensorflow:Saving dict for global step 4190: accuracy = 0.14424242, cross_entropy_loss = 3.3828413, global_step = 4190, loss = 4.506414\n",
      "INFO:tensorflow:Saving 'checkpoint_path' summary for global step 4190: /var/folders/68/1f0ftm9d7_b6h52231rtg7mh0000gn/T/tmpk4pk0svn/model.ckpt-4190\n"
     ]
    }
   ],
   "source": [
    "# evaluate model\n",
    "test_labels_array = np.array(test_encoded_labels, dtype=np.int32)\n",
    "test_input_fn = tf.estimator.inputs.numpy_input_fn(\n",
    "                    x={\"ids\": test_x, \"ns\": test_ns}, y=test_labels_array,\n",
    "                    batch_size=128, num_epochs=1, shuffle=False\n",
    "                )\n",
    "\n",
    "eval_metrics = model.evaluate(input_fn=test_input_fn, name=\"test\")"
   ]
  },
  {
   "cell_type": "code",
   "execution_count": 143,
   "metadata": {},
   "outputs": [
    {
     "name": "stdout",
     "output_type": "stream",
     "text": [
      "{'accuracy': 0.122387156, 'cross_entropy_loss': 4.0735126, 'loss': 5.7586746, 'global_step': 4190}\n"
     ]
    }
   ],
   "source": [
    "print(eval_metrics)"
   ]
  },
  {
   "cell_type": "code",
   "execution_count": null,
   "metadata": {
    "collapsed": true
   },
   "outputs": [],
   "source": []
  }
 ],
 "metadata": {
  "kernelspec": {
   "display_name": "Python 3",
   "language": "python",
   "name": "python3"
  },
  "language_info": {
   "codemirror_mode": {
    "name": "ipython",
    "version": 3
   },
   "file_extension": ".py",
   "mimetype": "text/x-python",
   "name": "python",
   "nbconvert_exporter": "python",
   "pygments_lexer": "ipython3",
   "version": "3.6.3"
  }
 },
 "nbformat": 4,
 "nbformat_minor": 2
}
