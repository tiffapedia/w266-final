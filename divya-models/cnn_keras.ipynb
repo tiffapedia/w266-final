{
 "cells": [
  {
   "cell_type": "code",
   "execution_count": 49,
   "metadata": {},
   "outputs": [],
   "source": [
    "import tweets_processor\n",
    "import numpy as np\n",
    "import keras\n",
    "import mlflow.keras\n",
    "from keras.models import load_model\n",
    "from keras.models import Sequential\n",
    "from keras.layers import Dense, Dropout, Flatten\n",
    "from keras.layers import Embedding\n",
    "from keras.layers import Conv1D, MaxPooling1D\n",
    "from keras.preprocessing.text import Tokenizer\n",
    "from keras.preprocessing.sequence import pad_sequences\n",
    "from keras.backend import expand_dims\n",
    "from sklearn.model_selection import train_test_split"
   ]
  },
  {
   "cell_type": "code",
   "execution_count": 61,
   "metadata": {
    "collapsed": true
   },
   "outputs": [],
   "source": [
    "# load the data\n",
    "# get the tweets and the region labels from csv file\n",
    "tweets_text, tweets_regions = tweets_processor.get_tweets_from_csv()"
   ]
  },
  {
   "cell_type": "code",
   "execution_count": 62,
   "metadata": {
    "collapsed": true
   },
   "outputs": [],
   "source": [
    "# preprocess the tweets\n",
    "processed_tweets = []\n",
    "for tweet in tweets_text:\n",
    "    processed_tweet = tweets_processor.preprocessor(tweet)\n",
    "    processed_tweets.append(processed_tweet)"
   ]
  },
  {
   "cell_type": "code",
   "execution_count": 63,
   "metadata": {},
   "outputs": [],
   "source": [
    "# convert label regions to integers\n",
    "encoded_labels = tweets_processor.encode_labels(tweets_regions)"
   ]
  },
  {
   "cell_type": "code",
   "execution_count": 64,
   "metadata": {},
   "outputs": [],
   "source": [
    "# split the data into train and test\n",
    "train_data, test_data, train_labels, test_labels = train_test_split(processed_tweets, encoded_labels, test_size=0.33, random_state=0)"
   ]
  },
  {
   "cell_type": "code",
   "execution_count": 65,
   "metadata": {},
   "outputs": [],
   "source": [
    "# create the tokenizer at word level\n",
    "# t = Tokenizer()\n",
    "# create the tokenizer at character level\n",
    "t = Tokenizer(char_level=True)\n",
    "t.fit_on_texts(train_data)"
   ]
  },
  {
   "cell_type": "code",
   "execution_count": 66,
   "metadata": {},
   "outputs": [],
   "source": [
    "# get the vocab size\n",
    "vocab_size = len(t.word_counts) + 1"
   ]
  },
  {
   "cell_type": "code",
   "execution_count": 67,
   "metadata": {},
   "outputs": [],
   "source": [
    "# maximum input sequence length\n",
    "max_len = 100 # hyperparameter\n",
    "\n",
    "# convert the train data to sequence of id's\n",
    "encoded_train_data = t.texts_to_sequences(train_data)\n",
    "\n",
    "# make inputs of same length by using pad_sequences\n",
    "padded_train_data = pad_sequences(encoded_train_data,padding='post', maxlen=max_len)\n",
    "# conver to numpy array\n",
    "final_train_data = np.array(padded_train_data)"
   ]
  },
  {
   "cell_type": "code",
   "execution_count": 68,
   "metadata": {
    "collapsed": true
   },
   "outputs": [],
   "source": [
    "# convert the test data to sequence of id's\n",
    "encoded_test_data = t.texts_to_sequences(test_data)\n",
    "\n",
    "# make inputs of same length by using pad_sequences\n",
    "padded_test_data = pad_sequences(encoded_test_data,padding='post', maxlen=max_len) # should maxlen be same for test and train?\n",
    "# convert to numpy array\n",
    "final_test_data = np.array(padded_test_data)"
   ]
  },
  {
   "cell_type": "code",
   "execution_count": 69,
   "metadata": {},
   "outputs": [
    {
     "data": {
      "text/plain": [
       "array([0., 0., 0., 0., 0., 1., 0., 0., 0., 0., 0., 0., 0., 0., 0., 0., 0.,\n",
       "       0., 0., 0., 0., 0., 0.], dtype=float32)"
      ]
     },
     "execution_count": 69,
     "metadata": {},
     "output_type": "execute_result"
    }
   ],
   "source": [
    "# convert the integers to categorical labels for train set\n",
    "# there are 23 regions as labels\n",
    "x_train = keras.utils.to_categorical(train_labels, num_classes=23)\n",
    "x_train[0]"
   ]
  },
  {
   "cell_type": "code",
   "execution_count": 70,
   "metadata": {
    "collapsed": true
   },
   "outputs": [],
   "source": [
    "# convert the integers to categorical labels for test set\n",
    "y_test = keras.utils.to_categorical(test_labels, num_classes=23)"
   ]
  },
  {
   "cell_type": "code",
   "execution_count": 71,
   "metadata": {},
   "outputs": [
    {
     "name": "stdout",
     "output_type": "stream",
     "text": [
      "Epoch 1/10\n",
      "6700/6700 [==============================] - 3s 485us/step - loss: 2.9365 - acc: 0.1200\n",
      "Epoch 2/10\n",
      "6700/6700 [==============================] - 2s 356us/step - loss: 2.8851 - acc: 0.1227\n",
      "Epoch 3/10\n",
      "6700/6700 [==============================] - 2s 351us/step - loss: 2.8800 - acc: 0.1270\n",
      "Epoch 4/10\n",
      "6700/6700 [==============================] - 2s 352us/step - loss: 2.8750 - acc: 0.1278\n",
      "Epoch 5/10\n",
      "6700/6700 [==============================] - 2s 353us/step - loss: 2.8680 - acc: 0.1275\n",
      "Epoch 6/10\n",
      "6700/6700 [==============================] - 2s 356us/step - loss: 2.8699 - acc: 0.1293\n",
      "Epoch 7/10\n",
      "6700/6700 [==============================] - 2s 350us/step - loss: 2.8646 - acc: 0.1318\n",
      "Epoch 8/10\n",
      "6700/6700 [==============================] - 2s 349us/step - loss: 2.8553 - acc: 0.1309\n",
      "Epoch 9/10\n",
      "6700/6700 [==============================] - 2s 355us/step - loss: 2.8493 - acc: 0.1310\n",
      "Epoch 10/10\n",
      "6700/6700 [==============================] - 2s 353us/step - loss: 2.8346 - acc: 0.1342\n",
      "3300/3300 [==============================] - 0s 139us/step\n",
      "[2.866049933000044, 0.13272727272727272]\n"
     ]
    }
   ],
   "source": [
    "# create model with keras\n",
    "model = Sequential()\n",
    "\n",
    "with mlflow.start_run():\n",
    "    # picking an arbitary value for the output_dim\n",
    "    embedding_features = 20 # hyperparameter to tune\n",
    "    first_filter_num = 32\n",
    "    first_conv_len = 3\n",
    "    first_pool_size = 2\n",
    "    second_filter_num = 64\n",
    "    second_conv_len = 3\n",
    "    second_pool_size = 2\n",
    "    first_dense_dim = 128\n",
    "    dropout = 0.5\n",
    "    \n",
    "    #create embedding for vocab size\n",
    "    model.add(Embedding(vocab_size, output_dim=embedding_features, input_length=max_len)) # had to add input length for flattening later\n",
    "    model.add(Conv1D(first_filter_num, first_conv_len, activation='relu'))\n",
    "    model.add(Conv1D(first_filter_num, first_conv_len, activation='relu'))\n",
    "    model.add(MaxPooling1D(first_pool_size))\n",
    "    model.add(Conv1D(second_filter_num, second_conv_len, activation='relu'))\n",
    "    model.add(Conv1D(second_filter_num, second_conv_len, activation='relu'))\n",
    "    model.add(MaxPooling1D(second_pool_size))\n",
    "    #model.add(Dropout(dropout))\n",
    "    \n",
    "    model.add(Flatten())\n",
    "    model.add(Dense(first_dense_dim, activation='relu'))\n",
    "    model.add(Dropout(dropout))\n",
    "    model.add(Dense(len(tweets_processor.regions_mapping), activation='softmax')) # using our 23 regions\n",
    "    \n",
    "    model.compile(loss='categorical_crossentropy',\n",
    "                 optimizer='adam',\n",
    "                 metrics=['accuracy'])\n",
    "    \n",
    "    batch_size = 32\n",
    "    epochs = 10\n",
    "    model.fit(final_train_data, x_train, batch_size=batch_size, epochs=epochs)\n",
    "    \n",
    "    score = model.evaluate(final_test_data, y_test)\n",
    "    print(score)\n",
    "    \n",
    "    #mlflow logs\n",
    "    mlflow.log_param(\"max_input_len\", max_len)\n",
    "    mlflow.log_param(\"embedding_features\", embedding_features)\n",
    "    mlflow.log_param(\"first_filter_num\", first_filter_num)\n",
    "    mlflow.log_param(\"first_conv_len\", first_conv_len)\n",
    "    mlflow.log_param(\"first_pool_size\", first_pool_size)\n",
    "    mlflow.log_param(\"second_filter_num\", second_filter_num)\n",
    "    mlflow.log_param(\"second_conv_len\", second_conv_len)\n",
    "    mlflow.log_param(\"second_pool_size\", second_pool_size)\n",
    "    mlflow.log_param(\"first_dense_dim\", first_dense_dim)\n",
    "    mlflow.log_param(\"dropout\", dropout)\n",
    "    mlflow.log_param(\"batch_size\", batch_size)\n",
    "    mlflow.log_param(\"epochs\", epochs)\n",
    "    mlflow.log_metric(\"evaluation_loss\", score[0])\n",
    "    mlflow.log_metric(\"evaluation_accuracy\", score[1])\n",
    "    mlflow.log_param(\"level\", 'character_level')\n",
    "    #mlflow.log_param(\"activation\", activation) # default for now tanh\n",
    "    \n",
    "    mlflow.keras.log_model(model, \"cnn_models\")"
   ]
  },
  {
   "cell_type": "code",
   "execution_count": null,
   "metadata": {
    "collapsed": true
   },
   "outputs": [],
   "source": []
  }
 ],
 "metadata": {
  "kernelspec": {
   "display_name": "Python 3",
   "language": "python",
   "name": "python3"
  },
  "language_info": {
   "codemirror_mode": {
    "name": "ipython",
    "version": 3
   },
   "file_extension": ".py",
   "mimetype": "text/x-python",
   "name": "python",
   "nbconvert_exporter": "python",
   "pygments_lexer": "ipython3",
   "version": "3.6.3"
  }
 },
 "nbformat": 4,
 "nbformat_minor": 2
}
